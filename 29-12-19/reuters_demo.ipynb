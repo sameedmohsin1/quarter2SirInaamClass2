{
 "cells": [
  {
   "cell_type": "markdown",
   "metadata": {
    "colab_type": "text",
    "id": "c6mwZ9O9nd28"
   },
   "source": [
    "# Importing modules"
   ]
  },
  {
   "cell_type": "code",
   "execution_count": 1,
   "metadata": {
    "colab": {},
    "colab_type": "code",
    "id": "Iw1GEBfVnkgi"
   },
   "outputs": [],
   "source": [
    "import tensorflow as tf\n",
    "from tensorflow.keras.datasets import reuters\n",
    "from tensorflow.keras import models, layers, optimizers, utils\n",
    "import numpy as np\n",
    "import matplotlib.pyplot as plt"
   ]
  },
  {
   "cell_type": "markdown",
   "metadata": {
    "colab_type": "text",
    "id": "xxUhvCF8oiKK"
   },
   "source": [
    "# Loading Dataset"
   ]
  },
  {
   "cell_type": "code",
   "execution_count": 2,
   "metadata": {
    "colab": {},
    "colab_type": "code",
    "id": "C9TUCSOrnZHe"
   },
   "outputs": [
    {
     "name": "stdout",
     "output_type": "stream",
     "text": [
      "Downloading data from https://storage.googleapis.com/tensorflow/tf-keras-datasets/reuters.npz\n",
      "2113536/2110848 [==============================] - 0s 0us/step\n"
     ]
    }
   ],
   "source": [
    "(train_data, train_labels), (test_data, test_labels) = reuters.load_data(num_words=10000)"
   ]
  },
  {
   "cell_type": "code",
   "execution_count": 3,
   "metadata": {
    "colab": {
     "base_uri": "https://localhost:8080/",
     "height": 51
    },
    "colab_type": "code",
    "id": "wDZA-54toogu",
    "outputId": "915b39a7-3254-4d70-b303-d0028b599b23"
   },
   "outputs": [
    {
     "name": "stdout",
     "output_type": "stream",
     "text": [
      "8982\n",
      "2246\n"
     ]
    }
   ],
   "source": [
    "print(len(train_data))\n",
    "print(len(test_data))"
   ]
  },
  {
   "cell_type": "markdown",
   "metadata": {
    "colab_type": "text",
    "id": "9rirXCKUpUUQ"
   },
   "source": [
    "# Preparing the data"
   ]
  },
  {
   "cell_type": "code",
   "execution_count": 5,
   "metadata": {
    "colab": {},
    "colab_type": "code",
    "id": "NZ8aazokpTlf"
   },
   "outputs": [],
   "source": [
    "def vectorize_sequences(sequences, dimension=10000):\n",
    "  results = np.zeros((len(sequences), dimension))\n",
    "  for i, sequence in enumerate(sequences):\n",
    "    results[i, sequence] = 1.\n",
    "  return results\n",
    "\n",
    "x_train = vectorize_sequences(train_data)\n",
    "x_test = vectorize_sequences(test_data)"
   ]
  },
  {
   "cell_type": "code",
   "execution_count": 6,
   "metadata": {
    "colab": {},
    "colab_type": "code",
    "id": "n9p7AAxoqw90"
   },
   "outputs": [],
   "source": [
    "def to_one_hot(labels, dimension=46):\n",
    "  results = np.zeros((len(labels), dimension))\n",
    "  for i, label in enumerate(labels):\n",
    "    results[i, label] = 1.\n",
    "  return results\n",
    "\n",
    "one_hot_train_labels = to_one_hot(train_labels)\n",
    "\n",
    "one_hot_test_labels = to_one_hot(test_labels)\n"
   ]
  },
  {
   "cell_type": "markdown",
   "metadata": {
    "colab_type": "text",
    "id": "_gKV0p7or4kp"
   },
   "source": [
    "# Or"
   ]
  },
  {
   "cell_type": "code",
   "execution_count": 7,
   "metadata": {
    "colab": {},
    "colab_type": "code",
    "id": "RblgvBD1r8tv"
   },
   "outputs": [],
   "source": [
    "one_hot_train_labels = utils.to_categorical(train_labels)\n",
    "one_hot_test_labels = utils.to_categorical(test_labels)"
   ]
  },
  {
   "cell_type": "code",
   "execution_count": 8,
   "metadata": {
    "colab": {},
    "colab_type": "code",
    "id": "qaYn7uzDwCXV"
   },
   "outputs": [],
   "source": [
    "x_val = x_train[:1000]\n",
    "partial_x_train = x_train[1000:]\n",
    "y_val = one_hot_train_labels[:1000]\n",
    "partial_y_train = one_hot_train_labels[1000:]\n"
   ]
  },
  {
   "cell_type": "markdown",
   "metadata": {
    "colab_type": "text",
    "id": "YUwSRlB7tr5Q"
   },
   "source": [
    "# Building Network"
   ]
  },
  {
   "cell_type": "code",
   "execution_count": 9,
   "metadata": {
    "colab": {},
    "colab_type": "code",
    "id": "PcYOJ930twDy"
   },
   "outputs": [],
   "source": [
    "model = models.Sequential()\n",
    "model.add(layers.Dense(64, activation='relu', input_shape=(10000,)))\n",
    "model.add(layers.Dense(64, activation='relu'))\n",
    "model.add(layers.Dense(46, activation='softmax'))"
   ]
  },
  {
   "cell_type": "markdown",
   "metadata": {
    "colab_type": "text",
    "id": "hM8s666dvmVS"
   },
   "source": [
    "# Compile"
   ]
  },
  {
   "cell_type": "code",
   "execution_count": 10,
   "metadata": {
    "colab": {
     "base_uri": "https://localhost:8080/",
     "height": 714
    },
    "colab_type": "code",
    "id": "bq6rNVEvvksU",
    "outputId": "6f9197de-1ed6-46fb-9a67-a6cd3e66b33f"
   },
   "outputs": [
    {
     "name": "stdout",
     "output_type": "stream",
     "text": [
      "Train on 7982 samples, validate on 1000 samples\n",
      "Epoch 1/20\n",
      "7982/7982 [==============================] - 1s 185us/sample - loss: 2.8593 - acc: 0.4811 - val_loss: 1.8651 - val_acc: 0.6370\n",
      "Epoch 2/20\n",
      "7982/7982 [==============================] - 1s 87us/sample - loss: 1.5124 - acc: 0.6956 - val_loss: 1.3762 - val_acc: 0.7100\n",
      "Epoch 3/20\n",
      "7982/7982 [==============================] - 1s 86us/sample - loss: 1.1202 - acc: 0.7633 - val_loss: 1.2112 - val_acc: 0.7370\n",
      "Epoch 4/20\n",
      "7982/7982 [==============================] - 1s 86us/sample - loss: 0.8961 - acc: 0.8099 - val_loss: 1.0894 - val_acc: 0.7730\n",
      "Epoch 5/20\n",
      "7982/7982 [==============================] - 1s 87us/sample - loss: 0.7182 - acc: 0.8489 - val_loss: 1.0335 - val_acc: 0.7920\n",
      "Epoch 6/20\n",
      "7982/7982 [==============================] - 1s 88us/sample - loss: 0.5796 - acc: 0.8775 - val_loss: 0.9731 - val_acc: 0.8000\n",
      "Epoch 7/20\n",
      "7982/7982 [==============================] - 1s 91us/sample - loss: 0.4686 - acc: 0.8996 - val_loss: 0.9399 - val_acc: 0.8150\n",
      "Epoch 8/20\n",
      "7982/7982 [==============================] - 1s 89us/sample - loss: 0.3822 - acc: 0.9186 - val_loss: 0.9606 - val_acc: 0.7990\n",
      "Epoch 9/20\n",
      "7982/7982 [==============================] - 1s 87us/sample - loss: 0.3181 - acc: 0.9316 - val_loss: 0.9360 - val_acc: 0.8150\n",
      "Epoch 10/20\n",
      "7982/7982 [==============================] - 1s 85us/sample - loss: 0.2645 - acc: 0.9409 - val_loss: 0.9418 - val_acc: 0.8040\n",
      "Epoch 11/20\n",
      "7982/7982 [==============================] - 1s 87us/sample - loss: 0.2270 - acc: 0.9476 - val_loss: 0.9320 - val_acc: 0.8220\n",
      "Epoch 12/20\n",
      "7982/7982 [==============================] - 1s 84us/sample - loss: 0.1992 - acc: 0.9505 - val_loss: 1.0733 - val_acc: 0.7790\n",
      "Epoch 13/20\n",
      "7982/7982 [==============================] - 1s 86us/sample - loss: 0.1757 - acc: 0.9526 - val_loss: 0.9656 - val_acc: 0.8130\n",
      "Epoch 14/20\n",
      "7982/7982 [==============================] - 1s 86us/sample - loss: 0.1578 - acc: 0.9534 - val_loss: 0.9942 - val_acc: 0.8130\n",
      "Epoch 15/20\n",
      "7982/7982 [==============================] - 1s 85us/sample - loss: 0.1513 - acc: 0.9538 - val_loss: 1.0071 - val_acc: 0.8070\n",
      "Epoch 16/20\n",
      "7982/7982 [==============================] - 1s 84us/sample - loss: 0.1329 - acc: 0.9574 - val_loss: 1.0581 - val_acc: 0.8120\n",
      "Epoch 17/20\n",
      "7982/7982 [==============================] - 1s 86us/sample - loss: 0.1305 - acc: 0.9555 - val_loss: 1.0481 - val_acc: 0.8020\n",
      "Epoch 18/20\n",
      "7982/7982 [==============================] - 1s 85us/sample - loss: 0.1219 - acc: 0.9574 - val_loss: 1.0813 - val_acc: 0.8000\n",
      "Epoch 19/20\n",
      "7982/7982 [==============================] - 1s 87us/sample - loss: 0.1202 - acc: 0.9565 - val_loss: 1.0914 - val_acc: 0.8040\n",
      "Epoch 20/20\n",
      "7982/7982 [==============================] - 1s 99us/sample - loss: 0.1156 - acc: 0.9569 - val_loss: 1.1071 - val_acc: 0.8100\n"
     ]
    }
   ],
   "source": [
    "model.compile(optimizer='rmsprop', loss='categorical_crossentropy', metrics=['acc'])\n",
    "history = model.fit(partial_x_train, partial_y_train, epochs=20, batch_size=512, validation_data=(x_val, y_val))\n"
   ]
  },
  {
   "cell_type": "code",
   "execution_count": 0,
   "metadata": {
    "colab": {
     "base_uri": "https://localhost:8080/",
     "height": 573
    },
    "colab_type": "code",
    "id": "8NpHP18JwRbB",
    "outputId": "adfcfadc-36b9-497d-9ca8-8e79c1e9d1ee"
   },
   "outputs": [
    {
     "data": {
      "image/png": "[encoded data removed]",
      "text/plain": [
       "<Figure size 432x288 with 1 Axes>"
      ]
     },
     "metadata": {
      "tags": []
     },
     "output_type": "display_data"
    },
    {
     "data": {
      "image/png": "[encoded data removed]",
      "text/plain": [
       "<Figure size 432x288 with 1 Axes>"
      ]
     },
     "metadata": {
      "tags": []
     },
     "output_type": "display_data"
    }
   ],
   "source": [
    "history_dict = history.history\n",
    "loss_values = history_dict['loss']\n",
    "val_loss_values = history_dict['val_loss']\n",
    "epochs = range(1, len(loss_values) + 1)\n",
    "plt.plot(epochs, loss_values, 'bo', label='Training loss')\n",
    "plt.plot(epochs, val_loss_values, 'b', label='Validation loss')\n",
    "plt.title('Training and validation loss')\n",
    "plt.xlabel('Epochs')\n",
    "plt.ylabel('Loss')\n",
    "plt.legend()\n",
    "plt.show()\n",
    "\n",
    "plt.clf()\n",
    "\n",
    "acc_values = history_dict['acc']\n",
    "val_acc_values = history_dict['val_acc']\n",
    "plt.plot(epochs, acc_values, 'bo', label='Training acc')\n",
    "plt.plot(epochs, val_acc_values, 'b', label='Validation acc')\n",
    "plt.title('Training and validation accuracy')\n",
    "plt.xlabel('Epochs')\n",
    "plt.ylabel('Loss')\n",
    "plt.legend()\n",
    "plt.show()\n"
   ]
  },
  {
   "cell_type": "code",
   "execution_count": 0,
   "metadata": {
    "colab": {},
    "colab_type": "code",
    "id": "-e39iaKRyoQG"
   },
   "outputs": [],
   "source": [
    "predictions = model.predict(x_test)"
   ]
  },
  {
   "cell_type": "code",
   "execution_count": 0,
   "metadata": {
    "colab": {
     "base_uri": "https://localhost:8080/",
     "height": 34
    },
    "colab_type": "code",
    "id": "_epR3mJqyp_2",
    "outputId": "2911d746-60aa-4364-9f5f-233ec731fba8"
   },
   "outputs": [
    {
     "data": {
      "text/plain": [
       "(2246, 46)"
      ]
     },
     "execution_count": 38,
     "metadata": {
      "tags": []
     },
     "output_type": "execute_result"
    }
   ],
   "source": [
    "predictions.shape"
   ]
  },
  {
   "cell_type": "code",
   "execution_count": 0,
   "metadata": {
    "colab": {
     "base_uri": "https://localhost:8080/",
     "height": 34
    },
    "colab_type": "code",
    "id": "7Elfpgpeyvmi",
    "outputId": "ea16104a-0f85-4d3f-94b7-a63f09857e0a"
   },
   "outputs": [
    {
     "data": {
      "text/plain": [
       "1.0"
      ]
     },
     "execution_count": 39,
     "metadata": {
      "tags": []
     },
     "output_type": "execute_result"
    }
   ],
   "source": [
    "predictions[1].sum()"
   ]
  },
  {
   "cell_type": "code",
   "execution_count": 0,
   "metadata": {
    "colab": {
     "base_uri": "https://localhost:8080/",
     "height": 34
    },
    "colab_type": "code",
    "id": "ClFqGNl85XQ6",
    "outputId": "829c958b-7cdf-40f7-a9c5-ad1cee3d21f3"
   },
   "outputs": [
    {
     "data": {
      "text/plain": [
       "14"
      ]
     },
     "execution_count": 40,
     "metadata": {
      "tags": []
     },
     "output_type": "execute_result"
    }
   ],
   "source": [
    "predictions[1].argmax()"
   ]
  },
  {
   "cell_type": "markdown",
   "metadata": {
    "colab_type": "text",
    "id": "zw7bjIXQ0tyb"
   },
   "source": [
    "# Alternate approach for Labels instead of One hot encoding"
   ]
  },
  {
   "cell_type": "code",
   "execution_count": 0,
   "metadata": {
    "colab": {},
    "colab_type": "code",
    "id": "Tj2indYi0tKq"
   },
   "outputs": [],
   "source": [
    "y_train = np.array(train_labels)\n",
    "y_test = np.array(test_labels)"
   ]
  },
  {
   "cell_type": "code",
   "execution_count": 0,
   "metadata": {
    "colab": {
     "base_uri": "https://localhost:8080/",
     "height": 714
    },
    "colab_type": "code",
    "id": "uk3lD4g907qg",
    "outputId": "067307b8-9bdc-4ace-b641-6668be95a1ee"
   },
   "outputs": [
    {
     "name": "stdout",
     "output_type": "stream",
     "text": [
      "Train on 8982 samples\n",
      "Epoch 1/20\n",
      "8982/8982 [==============================] - 2s 186us/sample - loss: 0.1504 - acc: 0.9529\n",
      "Epoch 2/20\n",
      "8982/8982 [==============================] - 1s 136us/sample - loss: 0.1075 - acc: 0.9567\n",
      "Epoch 3/20\n",
      "8982/8982 [==============================] - 1s 135us/sample - loss: 0.1108 - acc: 0.9550\n",
      "Epoch 4/20\n",
      "8982/8982 [==============================] - 1s 136us/sample - loss: 0.1083 - acc: 0.9558\n",
      "Epoch 5/20\n",
      "8982/8982 [==============================] - 1s 138us/sample - loss: 0.1051 - acc: 0.9567\n",
      "Epoch 6/20\n",
      "8982/8982 [==============================] - 1s 135us/sample - loss: 0.1028 - acc: 0.9562\n",
      "Epoch 7/20\n",
      "8982/8982 [==============================] - 1s 136us/sample - loss: 0.1046 - acc: 0.9549\n",
      "Epoch 8/20\n",
      "8982/8982 [==============================] - 1s 140us/sample - loss: 0.1024 - acc: 0.9562\n",
      "Epoch 9/20\n",
      "8982/8982 [==============================] - 1s 137us/sample - loss: 0.1017 - acc: 0.9559\n",
      "Epoch 10/20\n",
      "8982/8982 [==============================] - 1s 136us/sample - loss: 0.0987 - acc: 0.9551\n",
      "Epoch 11/20\n",
      "8982/8982 [==============================] - 1s 139us/sample - loss: 0.1035 - acc: 0.9565\n",
      "Epoch 12/20\n",
      "8982/8982 [==============================] - 1s 137us/sample - loss: 0.0962 - acc: 0.9550\n",
      "Epoch 13/20\n",
      "8982/8982 [==============================] - 1s 138us/sample - loss: 0.0961 - acc: 0.9557\n",
      "Epoch 14/20\n",
      "8982/8982 [==============================] - 1s 135us/sample - loss: 0.0958 - acc: 0.9578\n",
      "Epoch 15/20\n",
      "8982/8982 [==============================] - 1s 139us/sample - loss: 0.0935 - acc: 0.9578\n",
      "Epoch 16/20\n",
      "8982/8982 [==============================] - 1s 139us/sample - loss: 0.0956 - acc: 0.9561\n",
      "Epoch 17/20\n",
      "8982/8982 [==============================] - 1s 137us/sample - loss: 0.0963 - acc: 0.9557\n",
      "Epoch 18/20\n",
      "8982/8982 [==============================] - 1s 138us/sample - loss: 0.0926 - acc: 0.9566\n",
      "Epoch 19/20\n",
      "8982/8982 [==============================] - 1s 138us/sample - loss: 0.0938 - acc: 0.9571\n",
      "Epoch 20/20\n",
      "8982/8982 [==============================] - 1s 139us/sample - loss: 0.0939 - acc: 0.9554\n"
     ]
    }
   ],
   "source": [
    "model.compile(optimizer='rmsprop', loss='sparse_categorical_crossentropy', metrics=['acc'])\n",
    "history = model.fit(x_train, y_train, epochs=20, batch_size=512)"
   ]
  },
  {
   "cell_type": "code",
   "execution_count": 0,
   "metadata": {
    "colab": {},
    "colab_type": "code",
    "id": "dBC3AFpw4w0m"
   },
   "outputs": [],
   "source": [
    "predictions = model.predict(x_test)"
   ]
  },
  {
   "cell_type": "code",
   "execution_count": 0,
   "metadata": {
    "colab": {
     "base_uri": "https://localhost:8080/",
     "height": 34
    },
    "colab_type": "code",
    "id": "5V5M6NL64zin",
    "outputId": "7b845d32-f24b-401c-8dde-2c67993d591c"
   },
   "outputs": [
    {
     "data": {
      "text/plain": [
       "(2246, 46)"
      ]
     },
     "execution_count": 26,
     "metadata": {
      "tags": []
     },
     "output_type": "execute_result"
    }
   ],
   "source": [
    "predictions.shape"
   ]
  },
  {
   "cell_type": "code",
   "execution_count": 0,
   "metadata": {
    "colab": {
     "base_uri": "https://localhost:8080/",
     "height": 34
    },
    "colab_type": "code",
    "id": "JI-CMwYb43up",
    "outputId": "8bd3123b-c1c4-4a45-e8d9-4ce7b9646c0c"
   },
   "outputs": [
    {
     "data": {
      "text/plain": [
       "10"
      ]
     },
     "execution_count": 30,
     "metadata": {
      "tags": []
     },
     "output_type": "execute_result"
    }
   ],
   "source": [
    "predictions[1].argmax()"
   ]
  }
 ],
 "metadata": {
  "colab": {
   "collapsed_sections": [],
   "name": "reuters-demo.ipynb",
   "provenance": []
  },
  "kernelspec": {
   "display_name": "Python 3",
   "language": "python",
   "name": "python3"
  },
  "language_info": {
   "codemirror_mode": {
    "name": "ipython",
    "version": 3
   },
   "file_extension": ".py",
   "mimetype": "text/x-python",
   "name": "python",
   "nbconvert_exporter": "python",
   "pygments_lexer": "ipython3",
   "version": "3.7.4"
  }
 },
 "nbformat": 4,
 "nbformat_minor": 1
}
